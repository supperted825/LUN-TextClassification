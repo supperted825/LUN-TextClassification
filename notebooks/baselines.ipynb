{
 "cells": [
  {
   "attachments": {},
   "cell_type": "markdown",
   "metadata": {},
   "source": [
    "# Fake News Document Classification\n",
    "### Baseline Methods"
   ]
  },
  {
   "cell_type": "code",
   "execution_count": 13,
   "metadata": {},
   "outputs": [],
   "source": [
    "import nltk\n",
    "import numpy as np\n",
    "import pandas as pd\n",
    "\n",
    "from xgboost import XGBClassifier\n",
    "from nltk.corpus import stopwords\n",
    "\n",
    "from sklearn.model_selection import train_test_split\n",
    "from sklearn.decomposition import TruncatedSVD\n",
    "from sklearn.feature_extraction.text import TfidfVectorizer\n",
    "from sklearn.metrics import confusion_matrix, classification_report, f1_score, accuracy_score\n",
    "\n",
    "from sklearn.dummy import DummyClassifier\n",
    "from sklearn.linear_model import LogisticRegression\n",
    "from sklearn.naive_bayes import GaussianNB"
   ]
  },
  {
   "cell_type": "code",
   "execution_count": 7,
   "metadata": {},
   "outputs": [
    {
     "data": {
      "text/plain": [
       "propaganda    26182\n",
       "satire        22454\n",
       "reliable      15926\n",
       "hoax          11094\n",
       "Name: cls, dtype: int64"
      ]
     },
     "execution_count": 7,
     "metadata": {},
     "output_type": "execute_result"
    }
   ],
   "source": [
    "train_data = pd.read_csv('../data/augmented_train.csv', header=None)\n",
    "train_data.columns = ['cls', 'text']\n",
    "\n",
    "cls_names = { 0 : \"satire\", 1 : \"hoax\", 2 : \"propaganda\", 3 : \"reliable\"}\n",
    "train_data['cls'] = train_data['cls'] - 1\n",
    "\n",
    "train_data['cls'].map(cls_names).value_counts()"
   ]
  },
  {
   "cell_type": "code",
   "execution_count": 6,
   "metadata": {},
   "outputs": [
    {
     "data": {
      "text/plain": [
       "propaganda    3273\n",
       "satire        2806\n",
       "reliable      1991\n",
       "hoax          1387\n",
       "Name: cls, dtype: int64"
      ]
     },
     "execution_count": 6,
     "metadata": {},
     "output_type": "execute_result"
    }
   ],
   "source": [
    "val_data = pd.read_csv('../data/validation.csv', header=None)\n",
    "val_data.columns = ['cls', 'text']\n",
    "\n",
    "val_data['cls'] = val_data['cls'] - 1\n",
    "\n",
    "val_data['cls'].map(cls_names).value_counts()"
   ]
  },
  {
   "cell_type": "code",
   "execution_count": 8,
   "metadata": {},
   "outputs": [
    {
     "data": {
      "text/plain": [
       "satire        750\n",
       "hoax          750\n",
       "propaganda    750\n",
       "reliable      750\n",
       "Name: cls, dtype: int64"
      ]
     },
     "execution_count": 8,
     "metadata": {},
     "output_type": "execute_result"
    }
   ],
   "source": [
    "test_data = pd.read_csv('../data/balancedtest.csv', header=None)\n",
    "test_data.columns = ['cls', 'text']\n",
    "test_data['cls'] = test_data['cls'] - 1\n",
    "test_data['cls'].map(cls_names).value_counts()"
   ]
  },
  {
   "cell_type": "code",
   "execution_count": 14,
   "metadata": {},
   "outputs": [],
   "source": [
    "def train(model, pca=False):\n",
    "    \n",
    "    X_train, y_train = train_data['text'], train_data['cls']\n",
    "    X_val, y_val = val_data['text'], val_data['cls']\n",
    "\n",
    "    tfidf = TfidfVectorizer(\n",
    "                ngram_range=(1, 2),\n",
    "                stop_words=stopwords.words('english'),\n",
    "                max_df=0.8,\n",
    "                min_df=10,\n",
    "                max_features=5096\n",
    "                )\n",
    "\n",
    "    X_train = tfidf.fit_transform(X_train).toarray()\n",
    "    X_val = tfidf.transform(X_val).toarray()\n",
    "\n",
    "    if pca:\n",
    "        svd = TruncatedSVD(n_components=32)\n",
    "        X_train = svd.fit_transform(X_train)\n",
    "        X_test = svd.transform(X_test)\n",
    "\n",
    "    model.fit(X_train, y_train)\n",
    "\n",
    "    y_train_pred = model.predict(X_train)\n",
    "    y_val_pred = model.predict(X_val)\n",
    "\n",
    "    print('Validation Performance\\n')\n",
    "    print(classification_report(y_val, y_val_pred))\n",
    "    \n",
    "    x_test = tfidf.transform(test_data['text']).toarray()\n",
    "    x_test = pca.transform(x_test) if pca else x_test\n",
    "    \n",
    "    y_pred = model.predict(x_test)\n",
    "    \n",
    "    print('Test Performance\\n')\n",
    "    print(classification_report(test_data['cls'], y_pred))\n",
    "    \n",
    "    print('Test Set Micro F1 Score')\n",
    "    print(f1_score(test_data['cls'], y_pred, average='micro'))\n",
    "    \n",
    "    print('Test Set Accuracy Score')\n",
    "    print(accuracy_score(test_data['cls'], y_pred))\n",
    "    \n",
    "    print('\\n')\n",
    "    print(classification_report(test_data['cls'], y_pred, output_dict=True))"
   ]
  },
  {
   "attachments": {},
   "cell_type": "markdown",
   "metadata": {},
   "source": [
    "Baseline - Logistic Regression"
   ]
  },
  {
   "cell_type": "code",
   "execution_count": 15,
   "metadata": {},
   "outputs": [
    {
     "name": "stderr",
     "output_type": "stream",
     "text": [
      "/opt/anaconda3/envs/nlp/lib/python3.8/site-packages/sklearn/linear_model/_logistic.py:458: ConvergenceWarning: lbfgs failed to converge (status=1):\n",
      "STOP: TOTAL NO. of ITERATIONS REACHED LIMIT.\n",
      "\n",
      "Increase the number of iterations (max_iter) or scale the data as shown in:\n",
      "    https://scikit-learn.org/stable/modules/preprocessing.html\n",
      "Please also refer to the documentation for alternative solver options:\n",
      "    https://scikit-learn.org/stable/modules/linear_model.html#logistic-regression\n",
      "  n_iter_i = _check_optimize_result(\n"
     ]
    },
    {
     "name": "stdout",
     "output_type": "stream",
     "text": [
      "Validation Performance\n",
      "\n",
      "              precision    recall  f1-score   support\n",
      "\n",
      "           0       0.95      0.97      0.96      2806\n",
      "           1       0.97      0.96      0.97      1387\n",
      "           2       0.98      0.98      0.98      3273\n",
      "           3       0.96      0.94      0.95      1991\n",
      "\n",
      "    accuracy                           0.97      9457\n",
      "   macro avg       0.97      0.96      0.96      9457\n",
      "weighted avg       0.97      0.97      0.97      9457\n",
      "\n",
      "Test Performance\n",
      "\n",
      "              precision    recall  f1-score   support\n",
      "\n",
      "           0       0.84      0.76      0.80       750\n",
      "           1       0.79      0.44      0.57       750\n",
      "           2       0.60      0.82      0.69       750\n",
      "           3       0.78      0.91      0.84       750\n",
      "\n",
      "    accuracy                           0.73      3000\n",
      "   macro avg       0.75      0.73      0.72      3000\n",
      "weighted avg       0.75      0.73      0.72      3000\n",
      "\n",
      "Test Set Micro F1 Score\n",
      "0.732\n",
      "Test Set Accuracy Score\n",
      "0.732\n",
      "\n",
      "\n",
      "{'0': {'precision': 0.8370044052863436, 'recall': 0.76, 'f1-score': 0.7966457023060797, 'support': 750}, '1': {'precision': 0.7872340425531915, 'recall': 0.444, 'f1-score': 0.5677749360613811, 'support': 750}, '2': {'precision': 0.5966958211856171, 'recall': 0.8186666666666667, 'f1-score': 0.6902754356379989, 'support': 750}, '3': {'precision': 0.7831603229527105, 'recall': 0.9053333333333333, 'f1-score': 0.8398268398268398, 'support': 750}, 'accuracy': 0.732, 'macro avg': {'precision': 0.7510236479944656, 'recall': 0.732, 'f1-score': 0.7236307284580747, 'support': 3000}, 'weighted avg': {'precision': 0.7510236479944657, 'recall': 0.732, 'f1-score': 0.7236307284580749, 'support': 3000}}\n"
     ]
    }
   ],
   "source": [
    "train(LogisticRegression())"
   ]
  },
  {
   "cell_type": "code",
   "execution_count": 7,
   "metadata": {},
   "outputs": [
    {
     "name": "stdout",
     "output_type": "stream",
     "text": [
      "Validation Performance\n",
      "\n",
      "              precision    recall  f1-score   support\n",
      "\n",
      "           0       0.95      0.95      0.95      2793\n",
      "           1       0.96      0.94      0.95      1371\n",
      "           2       0.95      0.98      0.97      3587\n",
      "           3       0.96      0.91      0.94      2020\n",
      "\n",
      "    accuracy                           0.95      9771\n",
      "   macro avg       0.95      0.95      0.95      9771\n",
      "weighted avg       0.95      0.95      0.95      9771\n",
      "\n",
      "Test Performance\n",
      "\n",
      "              precision    recall  f1-score   support\n",
      "\n",
      "           0       0.76      0.67      0.72       750\n",
      "           1       0.65      0.33      0.44       750\n",
      "           2       0.55      0.75      0.63       750\n",
      "           3       0.71      0.89      0.79       750\n",
      "\n",
      "    accuracy                           0.66      3000\n",
      "   macro avg       0.67      0.66      0.64      3000\n",
      "weighted avg       0.67      0.66      0.64      3000\n",
      "\n",
      "Test Set Micro F1 Score\n",
      "0.66\n",
      "\n",
      "\n",
      "{'0': {'precision': 0.7628398791540786, 'recall': 0.6733333333333333, 'f1-score': 0.7152974504249293, 'support': 750}, '1': {'precision': 0.6510416666666666, 'recall': 0.3333333333333333, 'f1-score': 0.4409171075837742, 'support': 750}, '2': {'precision': 0.552917903066271, 'recall': 0.7453333333333333, 'f1-score': 0.6348665530948324, 'support': 750}, '3': {'precision': 0.7062566277836692, 'recall': 0.888, 'f1-score': 0.7867690490253988, 'support': 750}, 'accuracy': 0.66, 'macro avg': {'precision': 0.6682640191676713, 'recall': 0.6599999999999999, 'f1-score': 0.6444625400322337, 'support': 3000}, 'weighted avg': {'precision': 0.6682640191676713, 'recall': 0.66, 'f1-score': 0.6444625400322337, 'support': 3000}}\n"
     ]
    }
   ],
   "source": [
    "train(XGBClassifier())"
   ]
  }
 ],
 "metadata": {
  "kernelspec": {
   "display_name": "nlp",
   "language": "python",
   "name": "python3"
  },
  "language_info": {
   "codemirror_mode": {
    "name": "ipython",
    "version": 3
   },
   "file_extension": ".py",
   "mimetype": "text/x-python",
   "name": "python",
   "nbconvert_exporter": "python",
   "pygments_lexer": "ipython3",
   "version": "3.8.16"
  },
  "orig_nbformat": 4,
  "vscode": {
   "interpreter": {
    "hash": "0847cda728ef3e0f335e7e94b5a043d9a0fda1c620343fc6302f7013063303dc"
   }
  }
 },
 "nbformat": 4,
 "nbformat_minor": 2
}
